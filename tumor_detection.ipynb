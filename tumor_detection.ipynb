{
 "cells": [
  {
   "cell_type": "code",
   "execution_count": null,
   "id": "3da6c6bd",
   "metadata": {},
   "outputs": [],
   "source": [
    "import cv2\n",
    "import numpy as np\n",
    "\n",
    "# Load image\n",
    "image = cv2.imread('path_to_image', 0)  # Load as grayscale\n",
    "\n",
    "# Adaptive Histogram Equalization\n",
    "clahe = cv2.createCLAHE(clipLimit=2.0, tileGridSize=(8,8))\n",
    "equalized_image = clahe.apply(image)\n",
    "\n",
    "# Edge Enhancement\n",
    "edges = cv2.Canny(equalized_image, 100, 200)\n",
    "\n",
    "# Template Matching with multiple scales\n",
    "template = cv2.imread('path_to_template', 0)\n",
    "w, h = template.shape[::-1]\n",
    "for scale in np.linspace(0.6, 1.4, 20):\n",
    "    resized_template = cv2.resize(template, (int(w * scale), int(h * scale)), interpolation=cv2.INTER_AREA)\n",
    "    res = cv2.matchTemplate(equalized_image, resized_template, cv2.TM_CCOEFF_NORMED)\n",
    "    # Further processing to find and analyze matches\n",
    "\n",
    "cv2.imshow('Detected Edges', edges)\n",
    "cv2.waitKey(0)\n",
    "cv2.destroyAllWindows()\n"
   ]
  }
 ],
 "metadata": {
  "kernelspec": {
   "display_name": "Python 3 (ipykernel)",
   "language": "python",
   "name": "python3"
  },
  "language_info": {
   "codemirror_mode": {
    "name": "ipython",
    "version": 3
   },
   "file_extension": ".py",
   "mimetype": "text/x-python",
   "name": "python",
   "nbconvert_exporter": "python",
   "pygments_lexer": "ipython3",
   "version": "3.10.4"
  }
 },
 "nbformat": 4,
 "nbformat_minor": 5
}
